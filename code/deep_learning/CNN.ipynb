{
 "cells": [
  {
   "cell_type": "markdown",
   "source": [
    "# Convolutional Neural Network"
   ],
   "metadata": {}
  },
  {
   "cell_type": "markdown",
   "source": [
    "## Importing the libraries"
   ],
   "metadata": {}
  },
  {
   "cell_type": "code",
   "execution_count": 1,
   "source": [
    "import tensorflow as tf \r\n",
    "from keras.preprocessing.image import ImageDataGenerator\r\n",
    "\r\n",
    "tf.__version__"
   ],
   "outputs": [
    {
     "output_type": "execute_result",
     "data": {
      "text/plain": [
       "'2.5.0'"
      ]
     },
     "metadata": {},
     "execution_count": 1
    }
   ],
   "metadata": {}
  },
  {
   "cell_type": "markdown",
   "source": [
    "## Data Preprocessing"
   ],
   "metadata": {}
  },
  {
   "cell_type": "markdown",
   "source": [
    "### Preprocessing the Training set"
   ],
   "metadata": {}
  },
  {
   "cell_type": "code",
   "execution_count": 3,
   "source": [
    "train_datagen = ImageDataGenerator(\r\n",
    "    rescale = 1./255,\r\n",
    "    shear_range = 0.2,\r\n",
    "    zoom_range = 0.2,\r\n",
    "    horizontal_flip = True\r\n",
    ")\r\n",
    "\r\n",
    "training_set = train_datagen.flow_from_directory(\r\n",
    "    '../../datasets/cat_and_dogs/training_set',\r\n",
    "    target_size = (64, 64),\r\n",
    "    batch_size = 32,\r\n",
    "    class_mode = 'binary'\r\n",
    ")"
   ],
   "outputs": [
    {
     "output_type": "stream",
     "name": "stdout",
     "text": [
      "Found 8000 images belonging to 2 classes.\n"
     ]
    }
   ],
   "metadata": {}
  },
  {
   "cell_type": "markdown",
   "source": [
    "### Preprocessing the Test set"
   ],
   "metadata": {}
  },
  {
   "cell_type": "code",
   "execution_count": 4,
   "source": [
    "test_datagen = ImageDataGenerator(\r\n",
    "    rescale = 1./255\r\n",
    ")\r\n",
    "\r\n",
    "test_set = train_datagen.flow_from_directory(\r\n",
    "    '../../datasets/cat_and_dogs/test_set',\r\n",
    "    target_size = (64, 64),\r\n",
    "    batch_size = 32,\r\n",
    "    class_mode = 'binary'\r\n",
    ")"
   ],
   "outputs": [
    {
     "output_type": "stream",
     "name": "stdout",
     "text": [
      "Found 2000 images belonging to 2 classes.\n"
     ]
    }
   ],
   "metadata": {}
  },
  {
   "cell_type": "markdown",
   "source": [
    "## Building the CNN"
   ],
   "metadata": {}
  },
  {
   "cell_type": "markdown",
   "source": [
    "### Initialising the CNN"
   ],
   "metadata": {}
  },
  {
   "cell_type": "code",
   "execution_count": 5,
   "source": [
    "cnn = tf.keras.models.Sequential()"
   ],
   "outputs": [],
   "metadata": {}
  },
  {
   "cell_type": "markdown",
   "source": [
    "### Convolution"
   ],
   "metadata": {}
  },
  {
   "cell_type": "code",
   "execution_count": 6,
   "source": [
    "cnn.add(tf.keras.layers.Conv2D(\r\n",
    "                            filters = 32,\r\n",
    "                            kernel_size = 3,\r\n",
    "                            activation = 'relu',\r\n",
    "                            input_shape = [64, 64, 3]))"
   ],
   "outputs": [],
   "metadata": {}
  },
  {
   "cell_type": "markdown",
   "source": [
    "### Max-Pooling"
   ],
   "metadata": {}
  },
  {
   "cell_type": "code",
   "execution_count": 7,
   "source": [
    "cnn.add(tf.keras.layers.MaxPool2D(\r\n",
    "                            pool_size = 2,\r\n",
    "                            strides = 2))"
   ],
   "outputs": [],
   "metadata": {}
  },
  {
   "cell_type": "markdown",
   "source": [
    "### Adding a second convolutional layer"
   ],
   "metadata": {}
  },
  {
   "cell_type": "code",
   "execution_count": 8,
   "source": [
    "cnn.add(tf.keras.layers.Conv2D(\r\n",
    "                            filters = 32,\r\n",
    "                            kernel_size = 3,\r\n",
    "                            activation = 'relu'))\r\n",
    "\r\n",
    "cnn.add(tf.keras.layers.MaxPool2D(\r\n",
    "                            pool_size = 2,\r\n",
    "                            strides = 2))"
   ],
   "outputs": [],
   "metadata": {}
  },
  {
   "cell_type": "markdown",
   "source": [
    "## Flattening"
   ],
   "metadata": {}
  },
  {
   "cell_type": "code",
   "execution_count": 9,
   "source": [
    "cnn.add(tf.keras.layers.Flatten())"
   ],
   "outputs": [],
   "metadata": {}
  },
  {
   "cell_type": "markdown",
   "source": [
    "## Full Connection"
   ],
   "metadata": {}
  },
  {
   "cell_type": "code",
   "execution_count": 10,
   "source": [
    "cnn.add(tf.keras.layers.Dense(128, activation = 'relu'))"
   ],
   "outputs": [],
   "metadata": {}
  },
  {
   "cell_type": "markdown",
   "source": [
    "## Output layer"
   ],
   "metadata": {}
  },
  {
   "cell_type": "code",
   "execution_count": 11,
   "source": [
    "cnn.add(tf.keras.layers.Dense(1, activation = 'sigmoid'))"
   ],
   "outputs": [],
   "metadata": {}
  },
  {
   "cell_type": "markdown",
   "source": [
    "## Training the CNN"
   ],
   "metadata": {}
  },
  {
   "cell_type": "markdown",
   "source": [
    "### Compiling the CNN"
   ],
   "metadata": {}
  },
  {
   "cell_type": "code",
   "execution_count": 12,
   "source": [
    "cnn.compile(optimizer = 'adam', loss = 'binary_crossentropy', metrics = ['accuracy'])"
   ],
   "outputs": [],
   "metadata": {}
  },
  {
   "cell_type": "markdown",
   "source": [
    "### Training the CNN on the training set and evaluating it on the test set"
   ],
   "metadata": {}
  },
  {
   "cell_type": "code",
   "execution_count": 13,
   "source": [
    "cnn.fit(x = training_set, validation_data = test_set, epochs = 25)"
   ],
   "outputs": [
    {
     "output_type": "stream",
     "name": "stdout",
     "text": [
      "Epoch 1/25\n",
      "250/250 [==============================] - 36s 143ms/step - loss: 0.6537 - accuracy: 0.6074 - val_loss: 0.6172 - val_accuracy: 0.6520\n",
      "Epoch 2/25\n",
      "250/250 [==============================] - 42s 168ms/step - loss: 0.5806 - accuracy: 0.6926 - val_loss: 0.5645 - val_accuracy: 0.7055\n",
      "Epoch 3/25\n",
      "250/250 [==============================] - 40s 162ms/step - loss: 0.5481 - accuracy: 0.7184 - val_loss: 0.5335 - val_accuracy: 0.7435\n",
      "Epoch 4/25\n",
      "250/250 [==============================] - 42s 168ms/step - loss: 0.5173 - accuracy: 0.7456 - val_loss: 0.5387 - val_accuracy: 0.7360\n",
      "Epoch 5/25\n",
      "250/250 [==============================] - 40s 162ms/step - loss: 0.4988 - accuracy: 0.7551 - val_loss: 0.5201 - val_accuracy: 0.7460\n",
      "Epoch 6/25\n",
      "250/250 [==============================] - 39s 154ms/step - loss: 0.4798 - accuracy: 0.7670 - val_loss: 0.5031 - val_accuracy: 0.7665\n",
      "Epoch 7/25\n",
      "250/250 [==============================] - 42s 168ms/step - loss: 0.4658 - accuracy: 0.7800 - val_loss: 0.4926 - val_accuracy: 0.7610\n",
      "Epoch 8/25\n",
      "250/250 [==============================] - 41s 163ms/step - loss: 0.4508 - accuracy: 0.7820 - val_loss: 0.4839 - val_accuracy: 0.7680\n",
      "Epoch 9/25\n",
      "250/250 [==============================] - 39s 157ms/step - loss: 0.4387 - accuracy: 0.7969 - val_loss: 0.4858 - val_accuracy: 0.7770\n",
      "Epoch 10/25\n",
      "250/250 [==============================] - 39s 156ms/step - loss: 0.4295 - accuracy: 0.7983 - val_loss: 0.4734 - val_accuracy: 0.7790\n",
      "Epoch 11/25\n",
      "250/250 [==============================] - 39s 156ms/step - loss: 0.4214 - accuracy: 0.8041 - val_loss: 0.4602 - val_accuracy: 0.7885\n",
      "Epoch 12/25\n",
      "250/250 [==============================] - 39s 155ms/step - loss: 0.4026 - accuracy: 0.8119 - val_loss: 0.4668 - val_accuracy: 0.7835\n",
      "Epoch 13/25\n",
      "250/250 [==============================] - 44s 177ms/step - loss: 0.3923 - accuracy: 0.8265 - val_loss: 0.4622 - val_accuracy: 0.7835\n",
      "Epoch 14/25\n",
      "250/250 [==============================] - 39s 154ms/step - loss: 0.3841 - accuracy: 0.8215 - val_loss: 0.4590 - val_accuracy: 0.7950\n",
      "Epoch 15/25\n",
      "250/250 [==============================] - 39s 157ms/step - loss: 0.3713 - accuracy: 0.8313 - val_loss: 0.4665 - val_accuracy: 0.7910\n",
      "Epoch 16/25\n",
      "250/250 [==============================] - 43s 172ms/step - loss: 0.3573 - accuracy: 0.8391 - val_loss: 0.4756 - val_accuracy: 0.7915\n",
      "Epoch 17/25\n",
      "250/250 [==============================] - 41s 162ms/step - loss: 0.3503 - accuracy: 0.8430 - val_loss: 0.4584 - val_accuracy: 0.7945\n",
      "Epoch 18/25\n",
      "250/250 [==============================] - 40s 159ms/step - loss: 0.3359 - accuracy: 0.8551 - val_loss: 0.4708 - val_accuracy: 0.7955\n",
      "Epoch 19/25\n",
      "250/250 [==============================] - 38s 154ms/step - loss: 0.3295 - accuracy: 0.8514 - val_loss: 0.4507 - val_accuracy: 0.8085\n",
      "Epoch 20/25\n",
      "250/250 [==============================] - 44s 175ms/step - loss: 0.3130 - accuracy: 0.8601 - val_loss: 0.4933 - val_accuracy: 0.7975\n",
      "Epoch 21/25\n",
      "250/250 [==============================] - 43s 171ms/step - loss: 0.2973 - accuracy: 0.8687 - val_loss: 0.4767 - val_accuracy: 0.7995\n",
      "Epoch 22/25\n",
      "250/250 [==============================] - 42s 170ms/step - loss: 0.2960 - accuracy: 0.8723 - val_loss: 0.4629 - val_accuracy: 0.7985\n",
      "Epoch 23/25\n",
      "250/250 [==============================] - 43s 171ms/step - loss: 0.2722 - accuracy: 0.8841 - val_loss: 0.4725 - val_accuracy: 0.7925\n",
      "Epoch 24/25\n",
      "250/250 [==============================] - 46s 185ms/step - loss: 0.2763 - accuracy: 0.8813 - val_loss: 0.5284 - val_accuracy: 0.7955\n",
      "Epoch 25/25\n",
      "250/250 [==============================] - 41s 163ms/step - loss: 0.2571 - accuracy: 0.8946 - val_loss: 0.5309 - val_accuracy: 0.8010\n"
     ]
    },
    {
     "output_type": "execute_result",
     "data": {
      "text/plain": [
       "<tensorflow.python.keras.callbacks.History at 0x2046d360520>"
      ]
     },
     "metadata": {},
     "execution_count": 13
    }
   ],
   "metadata": {}
  },
  {
   "cell_type": "markdown",
   "source": [
    "## Making a single prediction "
   ],
   "metadata": {}
  },
  {
   "cell_type": "code",
   "execution_count": 18,
   "source": [
    "import numpy as np \r\n",
    "from keras.preprocessing import image\r\n",
    "\r\n",
    "test_image = image.load_img('../../datasets/cat_and_dogs/single_prediction/cat_or_dog_2.jpg', target_size = (64, 64))\r\n",
    "test_image = image.img_to_array(test_image)\r\n",
    "test_image = np.expand_dims(test_image, axis = 0)\r\n",
    "\r\n",
    "result = cnn.predict(test_image)\r\n",
    "print(training_set.class_indices)\r\n",
    "\r\n",
    "if result[0][0] == 1:\r\n",
    "    prediction = 'dog'\r\n",
    "else:\r\n",
    "    prediction = 'cat'\r\n",
    "\r\n",
    "print(prediction)"
   ],
   "outputs": [
    {
     "output_type": "stream",
     "name": "stdout",
     "text": [
      "{'cats': 0, 'dogs': 1}\n",
      "cat\n"
     ]
    }
   ],
   "metadata": {}
  }
 ],
 "metadata": {
  "orig_nbformat": 4,
  "language_info": {
   "name": "python",
   "version": "3.9.5",
   "mimetype": "text/x-python",
   "codemirror_mode": {
    "name": "ipython",
    "version": 3
   },
   "pygments_lexer": "ipython3",
   "nbconvert_exporter": "python",
   "file_extension": ".py"
  },
  "kernelspec": {
   "name": "python3",
   "display_name": "Python 3.9.5 64-bit"
  },
  "interpreter": {
   "hash": "c569cd2e17f62341e0f08a54f9a867c3c0d3a6f67454072d7de41a8b5dff8343"
  }
 },
 "nbformat": 4,
 "nbformat_minor": 2
}