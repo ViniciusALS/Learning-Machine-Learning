{
 "metadata": {
  "language_info": {
   "codemirror_mode": {
    "name": "ipython",
    "version": 3
   },
   "file_extension": ".py",
   "mimetype": "text/x-python",
   "name": "python",
   "nbconvert_exporter": "python",
   "pygments_lexer": "ipython3",
   "version": "3.9.5"
  },
  "orig_nbformat": 4,
  "kernelspec": {
   "name": "python3",
   "display_name": "Python 3.9.5 64-bit"
  },
  "interpreter": {
   "hash": "c569cd2e17f62341e0f08a54f9a867c3c0d3a6f67454072d7de41a8b5dff8343"
  }
 },
 "nbformat": 4,
 "nbformat_minor": 2,
 "cells": [
  {
   "source": [
    "# Artificial Neural Netword"
   ],
   "cell_type": "markdown",
   "metadata": {}
  },
  {
   "source": [
    "## Importing Libraries"
   ],
   "cell_type": "markdown",
   "metadata": {}
  },
  {
   "cell_type": "code",
   "execution_count": 8,
   "metadata": {},
   "outputs": [],
   "source": [
    "import numpy as np \n",
    "import matplotlib.pyplot as plt \n",
    "import pandas as pd \n",
    "import tensorflow as tf "
   ]
  },
  {
   "source": [
    "## Data Preprocessing"
   ],
   "cell_type": "markdown",
   "metadata": {}
  },
  {
   "source": [
    "### Importing Dataset"
   ],
   "cell_type": "markdown",
   "metadata": {}
  },
  {
   "cell_type": "code",
   "execution_count": 6,
   "metadata": {},
   "outputs": [],
   "source": [
    "dataset = pd.read_csv('../../datasets/Churn_Modelling.csv')\n",
    "X = dataset.iloc[:, 3:-1].values\n",
    "y = dataset.iloc[:, -1].values "
   ]
  },
  {
   "cell_type": "code",
   "execution_count": 10,
   "metadata": {},
   "outputs": [
    {
     "output_type": "stream",
     "name": "stdout",
     "text": [
      "[[619 'France' 'Female' ... 1 1 101348.88]\n [608 'Spain' 'Female' ... 0 1 112542.58]\n [502 'France' 'Female' ... 1 0 113931.57]\n ...\n [709 'France' 'Female' ... 0 1 42085.58]\n [772 'Germany' 'Male' ... 1 0 92888.52]\n [792 'France' 'Female' ... 1 0 38190.78]]\n"
     ]
    }
   ],
   "source": [
    "print(X)"
   ]
  },
  {
   "source": [
    "### Label Encoding the \"Gender\" Column "
   ],
   "cell_type": "markdown",
   "metadata": {}
  },
  {
   "cell_type": "code",
   "execution_count": 11,
   "metadata": {},
   "outputs": [],
   "source": [
    "from sklearn.preprocessing import LabelEncoder\n",
    "\n",
    "le = LabelEncoder()\n",
    "X[:, 2] = le.fit_transform(X[:, 2])"
   ]
  },
  {
   "cell_type": "code",
   "execution_count": 12,
   "metadata": {},
   "outputs": [
    {
     "output_type": "stream",
     "name": "stdout",
     "text": [
      "[[619 'France' 0 ... 1 1 101348.88]\n [608 'Spain' 0 ... 0 1 112542.58]\n [502 'France' 0 ... 1 0 113931.57]\n ...\n [709 'France' 0 ... 0 1 42085.58]\n [772 'Germany' 1 ... 1 0 92888.52]\n [792 'France' 0 ... 1 0 38190.78]]\n"
     ]
    }
   ],
   "source": [
    "print(X)"
   ]
  },
  {
   "source": [
    "### One Hot Encoding the \"Geography\" Column"
   ],
   "cell_type": "markdown",
   "metadata": {}
  },
  {
   "cell_type": "code",
   "execution_count": 13,
   "metadata": {},
   "outputs": [],
   "source": [
    "from sklearn.compose import ColumnTransformer\n",
    "from sklearn.preprocessing import OneHotEncoder\n",
    "\n",
    "ct = ColumnTransformer(transformers = [('encoder', OneHotEncoder(), [1])], remainder = 'passthrough')\n",
    "X = np.array(ct.fit_transform(X))"
   ]
  },
  {
   "cell_type": "code",
   "execution_count": 15,
   "metadata": {},
   "outputs": [
    {
     "output_type": "stream",
     "name": "stdout",
     "text": [
      "[1.0 0.0 0.0 619 0 42 2 0.0 1 1 1 101348.88]\n"
     ]
    }
   ],
   "source": [
    "print(X[0])"
   ]
  },
  {
   "source": [
    "### Splitting the dataset into the training set and test set"
   ],
   "cell_type": "markdown",
   "metadata": {}
  },
  {
   "cell_type": "code",
   "execution_count": 16,
   "metadata": {},
   "outputs": [],
   "source": [
    "from sklearn.model_selection import train_test_split\n",
    "X_train, X_test, y_train, y_test = train_test_split(X, y, test_size = 0.2, random_state = 0)"
   ]
  },
  {
   "source": [
    "### Feature scaling"
   ],
   "cell_type": "markdown",
   "metadata": {}
  },
  {
   "cell_type": "code",
   "execution_count": 17,
   "metadata": {},
   "outputs": [],
   "source": [
    "from sklearn.preprocessing import StandardScaler\n",
    "\n",
    "sc = StandardScaler()\n",
    "X_train = sc.fit_transform(X_train)\n",
    "X_test = sc.transform(X_test)"
   ]
  },
  {
   "source": [
    "## Building the ANN"
   ],
   "cell_type": "markdown",
   "metadata": {}
  },
  {
   "source": [
    "### Initializing the ANN"
   ],
   "cell_type": "markdown",
   "metadata": {}
  },
  {
   "cell_type": "code",
   "execution_count": 19,
   "metadata": {},
   "outputs": [],
   "source": [
    "ann = tf.keras.models.Sequential()"
   ]
  },
  {
   "source": [
    "### Adding the first hidden layer"
   ],
   "cell_type": "markdown",
   "metadata": {}
  },
  {
   "cell_type": "code",
   "execution_count": 20,
   "metadata": {},
   "outputs": [],
   "source": [
    "ann.add(tf.keras.layers.Dense(units = 6, activation = 'relu'))"
   ]
  },
  {
   "source": [
    "### Adding the second hidden layer"
   ],
   "cell_type": "markdown",
   "metadata": {}
  },
  {
   "cell_type": "code",
   "execution_count": 21,
   "metadata": {},
   "outputs": [],
   "source": [
    "ann.add(tf.keras.layers.Dense(units = 6, activation = 'relu'))"
   ]
  },
  {
   "source": [
    "### Adding the output layer"
   ],
   "cell_type": "markdown",
   "metadata": {}
  },
  {
   "cell_type": "code",
   "execution_count": 22,
   "metadata": {},
   "outputs": [],
   "source": [
    "ann.add(tf.keras.layers.Dense(units = 1, activation = 'sigmoid'))"
   ]
  },
  {
   "source": [
    "## Training the ANN"
   ],
   "cell_type": "markdown",
   "metadata": {}
  },
  {
   "source": [
    "### Compiling the ANN"
   ],
   "cell_type": "markdown",
   "metadata": {}
  },
  {
   "cell_type": "code",
   "execution_count": 23,
   "metadata": {},
   "outputs": [],
   "source": [
    "ann.compile(optimizer = 'adam', loss = 'binary_crossentropy', metrics = ['accuracy'])"
   ]
  },
  {
   "source": [
    "### Training the ANN on the Training set"
   ],
   "cell_type": "markdown",
   "metadata": {}
  },
  {
   "cell_type": "code",
   "execution_count": 24,
   "metadata": {},
   "outputs": [
    {
     "output_type": "stream",
     "name": "stdout",
     "text": [
      "Epoch 1/100\n",
      "250/250 [==============================] - 1s 1ms/step - loss: 0.5268 - accuracy: 0.7629\n",
      "Epoch 2/100\n",
      "250/250 [==============================] - 0s 1ms/step - loss: 0.4657 - accuracy: 0.7969\n",
      "Epoch 3/100\n",
      "250/250 [==============================] - 0s 1ms/step - loss: 0.4462 - accuracy: 0.8025\n",
      "Epoch 4/100\n",
      "250/250 [==============================] - 0s 1ms/step - loss: 0.4358 - accuracy: 0.8075\n",
      "Epoch 5/100\n",
      "250/250 [==============================] - 0s 1ms/step - loss: 0.4278 - accuracy: 0.8138\n",
      "Epoch 6/100\n",
      "250/250 [==============================] - 0s 1ms/step - loss: 0.4203 - accuracy: 0.8192\n",
      "Epoch 7/100\n",
      "250/250 [==============================] - 0s 1ms/step - loss: 0.4110 - accuracy: 0.8238\n",
      "Epoch 8/100\n",
      "250/250 [==============================] - 0s 937us/step - loss: 0.3988 - accuracy: 0.8324\n",
      "Epoch 9/100\n",
      "250/250 [==============================] - 0s 956us/step - loss: 0.3866 - accuracy: 0.8425\n",
      "Epoch 10/100\n",
      "250/250 [==============================] - 0s 1ms/step - loss: 0.3754 - accuracy: 0.8466\n",
      "Epoch 11/100\n",
      "250/250 [==============================] - 0s 1ms/step - loss: 0.3676 - accuracy: 0.8493\n",
      "Epoch 12/100\n",
      "250/250 [==============================] - 0s 1ms/step - loss: 0.3615 - accuracy: 0.8531\n",
      "Epoch 13/100\n",
      "250/250 [==============================] - 0s 913us/step - loss: 0.3569 - accuracy: 0.8556\n",
      "Epoch 14/100\n",
      "250/250 [==============================] - 0s 917us/step - loss: 0.3528 - accuracy: 0.8559\n",
      "Epoch 15/100\n",
      "250/250 [==============================] - 0s 903us/step - loss: 0.3498 - accuracy: 0.8585\n",
      "Epoch 16/100\n",
      "250/250 [==============================] - 0s 947us/step - loss: 0.3476 - accuracy: 0.8576\n",
      "Epoch 17/100\n",
      "250/250 [==============================] - 0s 963us/step - loss: 0.3457 - accuracy: 0.8581\n",
      "Epoch 18/100\n",
      "250/250 [==============================] - 0s 917us/step - loss: 0.3443 - accuracy: 0.8589\n",
      "Epoch 19/100\n",
      "250/250 [==============================] - 0s 1ms/step - loss: 0.3426 - accuracy: 0.8594\n",
      "Epoch 20/100\n",
      "250/250 [==============================] - 0s 1ms/step - loss: 0.3420 - accuracy: 0.8608\n",
      "Epoch 21/100\n",
      "250/250 [==============================] - 0s 1ms/step - loss: 0.3411 - accuracy: 0.8596\n",
      "Epoch 22/100\n",
      "250/250 [==============================] - 0s 1ms/step - loss: 0.3403 - accuracy: 0.8611\n",
      "Epoch 23/100\n",
      "250/250 [==============================] - 0s 989us/step - loss: 0.3395 - accuracy: 0.8615\n",
      "Epoch 24/100\n",
      "250/250 [==============================] - 0s 1ms/step - loss: 0.3394 - accuracy: 0.8606\n",
      "Epoch 25/100\n",
      "250/250 [==============================] - 0s 1ms/step - loss: 0.3387 - accuracy: 0.8630\n",
      "Epoch 26/100\n",
      "250/250 [==============================] - 0s 859us/step - loss: 0.3389 - accuracy: 0.8618\n",
      "Epoch 27/100\n",
      "250/250 [==============================] - 0s 990us/step - loss: 0.3385 - accuracy: 0.8627\n",
      "Epoch 28/100\n",
      "250/250 [==============================] - 0s 985us/step - loss: 0.3381 - accuracy: 0.8616\n",
      "Epoch 29/100\n",
      "250/250 [==============================] - 0s 947us/step - loss: 0.3383 - accuracy: 0.8621\n",
      "Epoch 30/100\n",
      "250/250 [==============================] - 0s 966us/step - loss: 0.3378 - accuracy: 0.8620\n",
      "Epoch 31/100\n",
      "250/250 [==============================] - 0s 999us/step - loss: 0.3376 - accuracy: 0.8636\n",
      "Epoch 32/100\n",
      "250/250 [==============================] - 0s 917us/step - loss: 0.3372 - accuracy: 0.8631\n",
      "Epoch 33/100\n",
      "250/250 [==============================] - 0s 905us/step - loss: 0.3376 - accuracy: 0.8629\n",
      "Epoch 34/100\n",
      "250/250 [==============================] - 0s 949us/step - loss: 0.3372 - accuracy: 0.8624\n",
      "Epoch 35/100\n",
      "250/250 [==============================] - 0s 960us/step - loss: 0.3367 - accuracy: 0.8641\n",
      "Epoch 36/100\n",
      "250/250 [==============================] - 0s 1ms/step - loss: 0.3365 - accuracy: 0.8629\n",
      "Epoch 37/100\n",
      "250/250 [==============================] - 0s 1ms/step - loss: 0.3368 - accuracy: 0.8649\n",
      "Epoch 38/100\n",
      "250/250 [==============================] - 0s 1ms/step - loss: 0.3361 - accuracy: 0.8627\n",
      "Epoch 39/100\n",
      "250/250 [==============================] - 0s 969us/step - loss: 0.3359 - accuracy: 0.8640\n",
      "Epoch 40/100\n",
      "250/250 [==============================] - 0s 1ms/step - loss: 0.3360 - accuracy: 0.8635\n",
      "Epoch 41/100\n",
      "250/250 [==============================] - 0s 920us/step - loss: 0.3354 - accuracy: 0.8646\n",
      "Epoch 42/100\n",
      "250/250 [==============================] - 0s 1ms/step - loss: 0.3356 - accuracy: 0.8641\n",
      "Epoch 43/100\n",
      "250/250 [==============================] - 0s 941us/step - loss: 0.3359 - accuracy: 0.8639\n",
      "Epoch 44/100\n",
      "250/250 [==============================] - 0s 985us/step - loss: 0.3351 - accuracy: 0.8640\n",
      "Epoch 45/100\n",
      "250/250 [==============================] - 0s 973us/step - loss: 0.3354 - accuracy: 0.8639\n",
      "Epoch 46/100\n",
      "250/250 [==============================] - 0s 1ms/step - loss: 0.3356 - accuracy: 0.8640\n",
      "Epoch 47/100\n",
      "250/250 [==============================] - 0s 972us/step - loss: 0.3351 - accuracy: 0.8646\n",
      "Epoch 48/100\n",
      "250/250 [==============================] - 0s 953us/step - loss: 0.3351 - accuracy: 0.8646\n",
      "Epoch 49/100\n",
      "250/250 [==============================] - 0s 970us/step - loss: 0.3348 - accuracy: 0.8652\n",
      "Epoch 50/100\n",
      "250/250 [==============================] - 0s 973us/step - loss: 0.3349 - accuracy: 0.8652\n",
      "Epoch 51/100\n",
      "250/250 [==============================] - 0s 941us/step - loss: 0.3354 - accuracy: 0.8651\n",
      "Epoch 52/100\n",
      "250/250 [==============================] - 0s 1ms/step - loss: 0.3348 - accuracy: 0.8643\n",
      "Epoch 53/100\n",
      "250/250 [==============================] - 0s 953us/step - loss: 0.3346 - accuracy: 0.8660\n",
      "Epoch 54/100\n",
      "250/250 [==============================] - 0s 977us/step - loss: 0.3348 - accuracy: 0.8652\n",
      "Epoch 55/100\n",
      "250/250 [==============================] - 0s 968us/step - loss: 0.3345 - accuracy: 0.8655\n",
      "Epoch 56/100\n",
      "250/250 [==============================] - 0s 941us/step - loss: 0.3344 - accuracy: 0.8646\n",
      "Epoch 57/100\n",
      "250/250 [==============================] - 0s 997us/step - loss: 0.3344 - accuracy: 0.8652\n",
      "Epoch 58/100\n",
      "250/250 [==============================] - 0s 929us/step - loss: 0.3338 - accuracy: 0.8661\n",
      "Epoch 59/100\n",
      "250/250 [==============================] - 0s 1ms/step - loss: 0.3341 - accuracy: 0.8649\n",
      "Epoch 60/100\n",
      "250/250 [==============================] - 0s 913us/step - loss: 0.3340 - accuracy: 0.8652\n",
      "Epoch 61/100\n",
      "250/250 [==============================] - 0s 945us/step - loss: 0.3342 - accuracy: 0.8651\n",
      "Epoch 62/100\n",
      "250/250 [==============================] - 0s 1ms/step - loss: 0.3341 - accuracy: 0.8641\n",
      "Epoch 63/100\n",
      "250/250 [==============================] - 0s 889us/step - loss: 0.3343 - accuracy: 0.8641\n",
      "Epoch 64/100\n",
      "250/250 [==============================] - 0s 1ms/step - loss: 0.3338 - accuracy: 0.8675\n",
      "Epoch 65/100\n",
      "250/250 [==============================] - 0s 897us/step - loss: 0.3340 - accuracy: 0.8649\n",
      "Epoch 66/100\n",
      "250/250 [==============================] - 0s 1ms/step - loss: 0.3339 - accuracy: 0.8652\n",
      "Epoch 67/100\n",
      "250/250 [==============================] - 0s 1ms/step - loss: 0.3337 - accuracy: 0.8648\n",
      "Epoch 68/100\n",
      "250/250 [==============================] - 0s 1ms/step - loss: 0.3335 - accuracy: 0.8656\n",
      "Epoch 69/100\n",
      "250/250 [==============================] - 0s 981us/step - loss: 0.3333 - accuracy: 0.8656\n",
      "Epoch 70/100\n",
      "250/250 [==============================] - 0s 1ms/step - loss: 0.3332 - accuracy: 0.8645\n",
      "Epoch 71/100\n",
      "250/250 [==============================] - 0s 1ms/step - loss: 0.3338 - accuracy: 0.8671\n",
      "Epoch 72/100\n",
      "250/250 [==============================] - 0s 1ms/step - loss: 0.3336 - accuracy: 0.8640\n",
      "Epoch 73/100\n",
      "250/250 [==============================] - 0s 971us/step - loss: 0.3338 - accuracy: 0.8652\n",
      "Epoch 74/100\n",
      "250/250 [==============================] - 0s 1ms/step - loss: 0.3336 - accuracy: 0.8650\n",
      "Epoch 75/100\n",
      "250/250 [==============================] - 0s 969us/step - loss: 0.3332 - accuracy: 0.8658\n",
      "Epoch 76/100\n",
      "250/250 [==============================] - 0s 1ms/step - loss: 0.3332 - accuracy: 0.8656\n",
      "Epoch 77/100\n",
      "250/250 [==============================] - 0s 1ms/step - loss: 0.3333 - accuracy: 0.8654\n",
      "Epoch 78/100\n",
      "250/250 [==============================] - 0s 990us/step - loss: 0.3331 - accuracy: 0.8652\n",
      "Epoch 79/100\n",
      "250/250 [==============================] - 0s 973us/step - loss: 0.3331 - accuracy: 0.8649\n",
      "Epoch 80/100\n",
      "250/250 [==============================] - 0s 1ms/step - loss: 0.3335 - accuracy: 0.8643\n",
      "Epoch 81/100\n",
      "250/250 [==============================] - 0s 1ms/step - loss: 0.3336 - accuracy: 0.8654\n",
      "Epoch 82/100\n",
      "250/250 [==============================] - 0s 929us/step - loss: 0.3331 - accuracy: 0.8654\n",
      "Epoch 83/100\n",
      "250/250 [==============================] - 0s 1ms/step - loss: 0.3333 - accuracy: 0.8644\n",
      "Epoch 84/100\n",
      "250/250 [==============================] - 0s 957us/step - loss: 0.3332 - accuracy: 0.8646\n",
      "Epoch 85/100\n",
      "250/250 [==============================] - 0s 1ms/step - loss: 0.3331 - accuracy: 0.8649\n",
      "Epoch 86/100\n",
      "250/250 [==============================] - 0s 941us/step - loss: 0.3333 - accuracy: 0.8658\n",
      "Epoch 87/100\n",
      "250/250 [==============================] - 0s 1ms/step - loss: 0.3336 - accuracy: 0.8639\n",
      "Epoch 88/100\n",
      "250/250 [==============================] - 0s 1ms/step - loss: 0.3328 - accuracy: 0.8650\n",
      "Epoch 89/100\n",
      "250/250 [==============================] - 0s 1ms/step - loss: 0.3329 - accuracy: 0.8648\n",
      "Epoch 90/100\n",
      "250/250 [==============================] - 0s 977us/step - loss: 0.3331 - accuracy: 0.8648\n",
      "Epoch 91/100\n",
      "250/250 [==============================] - 0s 1ms/step - loss: 0.3331 - accuracy: 0.8661\n",
      "Epoch 92/100\n",
      "250/250 [==============================] - 0s 1ms/step - loss: 0.3330 - accuracy: 0.8654\n",
      "Epoch 93/100\n",
      "250/250 [==============================] - 0s 1ms/step - loss: 0.3328 - accuracy: 0.8651\n",
      "Epoch 94/100\n",
      "250/250 [==============================] - 0s 1ms/step - loss: 0.3332 - accuracy: 0.8655\n",
      "Epoch 95/100\n",
      "250/250 [==============================] - 0s 965us/step - loss: 0.3336 - accuracy: 0.8652\n",
      "Epoch 96/100\n",
      "250/250 [==============================] - 0s 1ms/step - loss: 0.3330 - accuracy: 0.8652\n",
      "Epoch 97/100\n",
      "250/250 [==============================] - 0s 1ms/step - loss: 0.3329 - accuracy: 0.8635\n",
      "Epoch 98/100\n",
      "250/250 [==============================] - 0s 1ms/step - loss: 0.3327 - accuracy: 0.8646\n",
      "Epoch 99/100\n",
      "250/250 [==============================] - 0s 1ms/step - loss: 0.3328 - accuracy: 0.8649\n",
      "Epoch 100/100\n",
      "250/250 [==============================] - 0s 1ms/step - loss: 0.3328 - accuracy: 0.8668\n"
     ]
    },
    {
     "output_type": "execute_result",
     "data": {
      "text/plain": [
       "<tensorflow.python.keras.callbacks.History at 0x1ab0dd4f4c0>"
      ]
     },
     "metadata": {},
     "execution_count": 24
    }
   ],
   "source": [
    "ann.fit(X_train, y_train, batch_size = 32, epochs = 100)"
   ]
  },
  {
   "source": [
    "## Making the predictions "
   ],
   "cell_type": "markdown",
   "metadata": {}
  },
  {
   "source": [
    "### Predicting the result of a single observation"
   ],
   "cell_type": "markdown",
   "metadata": {}
  },
  {
   "cell_type": "code",
   "execution_count": 33,
   "metadata": {},
   "outputs": [
    {
     "output_type": "execute_result",
     "data": {
      "text/plain": [
       "array([ 0.98560362, -0.5698444 , -0.57369368, -0.52111599,  0.91601335,\n",
       "        0.10961719, -0.68538967, -0.2569057 ,  0.8095029 ,  0.64259497,\n",
       "        0.9687384 , -0.87203322])"
      ]
     },
     "metadata": {},
     "execution_count": 33
    }
   ],
   "source": [
    "x_pred = np.array([[600, 'France', 'Male', 40, 3, 60000, 2, 1, 1, 50000]])\n",
    "x_pred[:, 2] = le.transform(x_pred[:, 2])\n",
    "x_pred = np.array(ct.transform(x_pred))\n",
    "x_pred = sc.transform(x_pred)\n",
    "\n",
    "x_pred[0]"
   ]
  },
  {
   "cell_type": "code",
   "execution_count": 35,
   "metadata": {},
   "outputs": [
    {
     "output_type": "stream",
     "name": "stdout",
     "text": [
      "[[False]]\n"
     ]
    }
   ],
   "source": [
    "print(ann.predict(x_pred) > 0.5)"
   ]
  },
  {
   "source": [
    "### Predicting the results for the test set"
   ],
   "cell_type": "markdown",
   "metadata": {}
  },
  {
   "cell_type": "code",
   "execution_count": 37,
   "metadata": {},
   "outputs": [
    {
     "output_type": "stream",
     "name": "stdout",
     "text": [
      "[[0 0]\n [0 1]\n [0 0]\n ...\n [0 0]\n [0 0]\n [0 0]]\n"
     ]
    }
   ],
   "source": [
    "y_pred = ann.predict(X_test)\n",
    "y_pred = (y_pred > 0.5)\n",
    "\n",
    "print(np.concatenate((y_pred.reshape(len(y_pred), 1), y_test.reshape(len(y_test), 1)), 1))"
   ]
  },
  {
   "source": [
    "### Printing the model confusion matrix and accuracy"
   ],
   "cell_type": "markdown",
   "metadata": {}
  },
  {
   "cell_type": "code",
   "execution_count": 38,
   "metadata": {},
   "outputs": [
    {
     "output_type": "stream",
     "name": "stdout",
     "text": [
      "[[1512   83]\n [ 195  210]]\n"
     ]
    },
    {
     "output_type": "execute_result",
     "data": {
      "text/plain": [
       "0.861"
      ]
     },
     "metadata": {},
     "execution_count": 38
    }
   ],
   "source": [
    "from sklearn.metrics import confusion_matrix, accuracy_score\n",
    "\n",
    "cm = confusion_matrix(y_test, y_pred)\n",
    "\n",
    "print(cm)\n",
    "accuracy_score(y_test, y_pred)"
   ]
  }
 ]
}