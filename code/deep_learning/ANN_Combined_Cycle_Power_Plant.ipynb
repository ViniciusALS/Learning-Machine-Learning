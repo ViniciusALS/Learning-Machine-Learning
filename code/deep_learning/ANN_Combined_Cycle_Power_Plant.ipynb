{
 "metadata": {
  "language_info": {
   "codemirror_mode": {
    "name": "ipython",
    "version": 3
   },
   "file_extension": ".py",
   "mimetype": "text/x-python",
   "name": "python",
   "nbconvert_exporter": "python",
   "pygments_lexer": "ipython3",
   "version": "3.9.5"
  },
  "orig_nbformat": 4,
  "kernelspec": {
   "name": "python3",
   "display_name": "Python 3.9.5 64-bit"
  },
  "interpreter": {
   "hash": "c569cd2e17f62341e0f08a54f9a867c3c0d3a6f67454072d7de41a8b5dff8343"
  }
 },
 "nbformat": 4,
 "nbformat_minor": 2,
 "cells": [
  {
   "source": [
    "# ANN Combined Cycle Power Plant"
   ],
   "cell_type": "markdown",
   "metadata": {}
  },
  {
   "source": [
    "## Importing Libraries"
   ],
   "cell_type": "markdown",
   "metadata": {}
  },
  {
   "cell_type": "code",
   "execution_count": 2,
   "metadata": {},
   "outputs": [],
   "source": [
    "import numpy as np\n",
    "import pandas as pd \n",
    "import tensorflow as tf "
   ]
  },
  {
   "source": [
    "## Data Preprocessing"
   ],
   "cell_type": "markdown",
   "metadata": {}
  },
  {
   "source": [
    "### Importing the dataset"
   ],
   "cell_type": "markdown",
   "metadata": {}
  },
  {
   "cell_type": "code",
   "execution_count": 5,
   "metadata": {},
   "outputs": [],
   "source": [
    "dataset = pd.read_excel('../../datasets/Folds5x2_pp.xlsx')\n",
    "X = dataset.iloc[:, :-1].values\n",
    "y = dataset.iloc[:, -1].values"
   ]
  },
  {
   "source": [
    "### Splitting the dataset into the Training set and Test set"
   ],
   "cell_type": "markdown",
   "metadata": {}
  },
  {
   "cell_type": "code",
   "execution_count": 6,
   "metadata": {},
   "outputs": [],
   "source": [
    "from sklearn.model_selection import train_test_split\n",
    "X_train, X_test, y_train, y_test = train_test_split(X, y, test_size = 0.2, random_state = 0)"
   ]
  },
  {
   "source": [
    "## Building the ANN"
   ],
   "cell_type": "markdown",
   "metadata": {}
  },
  {
   "source": [
    "### Initializing the ANN"
   ],
   "cell_type": "markdown",
   "metadata": {}
  },
  {
   "cell_type": "code",
   "execution_count": 7,
   "metadata": {},
   "outputs": [],
   "source": [
    "ann = tf.keras.models.Sequential()"
   ]
  },
  {
   "source": [
    "### Adding the first hidden layer"
   ],
   "cell_type": "markdown",
   "metadata": {}
  },
  {
   "cell_type": "code",
   "execution_count": 8,
   "metadata": {},
   "outputs": [],
   "source": [
    "ann.add(tf.keras.layers.Dense(units=6, activation='relu'))"
   ]
  },
  {
   "source": [
    "### Adding the second hidden layer"
   ],
   "cell_type": "markdown",
   "metadata": {}
  },
  {
   "cell_type": "code",
   "execution_count": 9,
   "metadata": {},
   "outputs": [],
   "source": [
    "ann.add(tf.keras.layers.Dense(units=6, activation='relu'))"
   ]
  },
  {
   "source": [
    "### Adding the output layer"
   ],
   "cell_type": "markdown",
   "metadata": {}
  },
  {
   "cell_type": "code",
   "execution_count": 10,
   "metadata": {},
   "outputs": [],
   "source": [
    "ann.add(tf.keras.layers.Dense(units=1))"
   ]
  },
  {
   "source": [
    "## Training the ANN"
   ],
   "cell_type": "markdown",
   "metadata": {}
  },
  {
   "source": [
    "### Compiling the ANN"
   ],
   "cell_type": "markdown",
   "metadata": {}
  },
  {
   "cell_type": "code",
   "execution_count": 11,
   "metadata": {},
   "outputs": [],
   "source": [
    "ann.compile(optimizer = 'adam', loss = 'mean_absolute_error', metrics = ['accuracy'])"
   ]
  },
  {
   "source": [
    "### Training the ANN on the Training set"
   ],
   "cell_type": "markdown",
   "metadata": {}
  },
  {
   "cell_type": "code",
   "execution_count": 12,
   "metadata": {},
   "outputs": [
    {
     "output_type": "stream",
     "name": "stdout",
     "text": [
      "Epoch 1/100\n",
      "240/240 [==============================] - 1s 918us/step - loss: 474.0889 - accuracy: 0.0000e+00\n",
      "Epoch 2/100\n",
      "240/240 [==============================] - 0s 1ms/step - loss: 170.3107 - accuracy: 0.0000e+00\n",
      "Epoch 3/100\n",
      "240/240 [==============================] - 0s 914us/step - loss: 20.1762 - accuracy: 0.0000e+00\n",
      "Epoch 4/100\n",
      "240/240 [==============================] - 0s 976us/step - loss: 18.3415 - accuracy: 0.0000e+00\n",
      "Epoch 5/100\n",
      "240/240 [==============================] - 0s 1ms/step - loss: 16.3899 - accuracy: 0.0000e+00\n",
      "Epoch 6/100\n",
      "240/240 [==============================] - 0s 1ms/step - loss: 14.3489 - accuracy: 0.0000e+00\n",
      "Epoch 7/100\n",
      "240/240 [==============================] - 0s 897us/step - loss: 12.2998 - accuracy: 0.0000e+00\n",
      "Epoch 8/100\n",
      "240/240 [==============================] - 0s 887us/step - loss: 10.2250 - accuracy: 0.0000e+00\n",
      "Epoch 9/100\n",
      "240/240 [==============================] - 0s 950us/step - loss: 8.2360 - accuracy: 0.0000e+00\n",
      "Epoch 10/100\n",
      "240/240 [==============================] - 0s 1ms/step - loss: 6.6248 - accuracy: 0.0000e+00\n",
      "Epoch 11/100\n",
      "240/240 [==============================] - 0s 989us/step - loss: 5.5495 - accuracy: 0.0000e+00\n",
      "Epoch 12/100\n",
      "240/240 [==============================] - 0s 931us/step - loss: 4.9752 - accuracy: 0.0000e+00\n",
      "Epoch 13/100\n",
      "240/240 [==============================] - 0s 993us/step - loss: 4.6222 - accuracy: 0.0000e+00\n",
      "Epoch 14/100\n",
      "240/240 [==============================] - 0s 1ms/step - loss: 4.4655 - accuracy: 0.0000e+00\n",
      "Epoch 15/100\n",
      "240/240 [==============================] - 0s 1ms/step - loss: 4.3696 - accuracy: 0.0000e+00\n",
      "Epoch 16/100\n",
      "240/240 [==============================] - 0s 1ms/step - loss: 4.2959 - accuracy: 0.0000e+00\n",
      "Epoch 17/100\n",
      "240/240 [==============================] - 0s 1ms/step - loss: 4.3066 - accuracy: 0.0000e+00\n",
      "Epoch 18/100\n",
      "240/240 [==============================] - 0s 1ms/step - loss: 4.2545 - accuracy: 0.0000e+00\n",
      "Epoch 19/100\n",
      "240/240 [==============================] - 0s 1ms/step - loss: 4.2272 - accuracy: 0.0000e+00\n",
      "Epoch 20/100\n",
      "240/240 [==============================] - 0s 958us/step - loss: 4.2666 - accuracy: 0.0000e+00\n",
      "Epoch 21/100\n",
      "240/240 [==============================] - 0s 926us/step - loss: 4.2664 - accuracy: 0.0000e+00\n",
      "Epoch 22/100\n",
      "240/240 [==============================] - 0s 899us/step - loss: 4.1866 - accuracy: 0.0000e+00\n",
      "Epoch 23/100\n",
      "240/240 [==============================] - 0s 964us/step - loss: 4.2232 - accuracy: 0.0000e+00\n",
      "Epoch 24/100\n",
      "240/240 [==============================] - 0s 960us/step - loss: 4.1998 - accuracy: 0.0000e+00\n",
      "Epoch 25/100\n",
      "240/240 [==============================] - 0s 1ms/step - loss: 4.1846 - accuracy: 0.0000e+00\n",
      "Epoch 26/100\n",
      "240/240 [==============================] - 0s 941us/step - loss: 4.1831 - accuracy: 0.0000e+00\n",
      "Epoch 27/100\n",
      "240/240 [==============================] - 0s 912us/step - loss: 4.1858 - accuracy: 0.0000e+00\n",
      "Epoch 28/100\n",
      "240/240 [==============================] - 0s 962us/step - loss: 4.1720 - accuracy: 0.0000e+00\n",
      "Epoch 29/100\n",
      "240/240 [==============================] - 0s 1ms/step - loss: 4.1444 - accuracy: 0.0000e+00\n",
      "Epoch 30/100\n",
      "240/240 [==============================] - 0s 1ms/step - loss: 4.1768 - accuracy: 0.0000e+00\n",
      "Epoch 31/100\n",
      "240/240 [==============================] - 0s 1ms/step - loss: 4.1598 - accuracy: 0.0000e+00\n",
      "Epoch 32/100\n",
      "240/240 [==============================] - 0s 1ms/step - loss: 4.1672 - accuracy: 0.0000e+00\n",
      "Epoch 33/100\n",
      "240/240 [==============================] - 0s 1ms/step - loss: 4.1456 - accuracy: 0.0000e+00\n",
      "Epoch 34/100\n",
      "240/240 [==============================] - 0s 1ms/step - loss: 4.1349 - accuracy: 0.0000e+00\n",
      "Epoch 35/100\n",
      "240/240 [==============================] - 0s 1ms/step - loss: 4.1492 - accuracy: 0.0000e+00\n",
      "Epoch 36/100\n",
      "240/240 [==============================] - 0s 972us/step - loss: 4.1523 - accuracy: 0.0000e+00\n",
      "Epoch 37/100\n",
      "240/240 [==============================] - 0s 960us/step - loss: 4.1446 - accuracy: 0.0000e+00\n",
      "Epoch 38/100\n",
      "240/240 [==============================] - 0s 972us/step - loss: 4.2226 - accuracy: 0.0000e+00\n",
      "Epoch 39/100\n",
      "240/240 [==============================] - 0s 1ms/step - loss: 4.1297 - accuracy: 0.0000e+00\n",
      "Epoch 40/100\n",
      "240/240 [==============================] - 0s 964us/step - loss: 4.0978 - accuracy: 0.0000e+00\n",
      "Epoch 41/100\n",
      "240/240 [==============================] - 0s 928us/step - loss: 4.1290 - accuracy: 0.0000e+00\n",
      "Epoch 42/100\n",
      "240/240 [==============================] - 0s 962us/step - loss: 4.1376 - accuracy: 0.0000e+00\n",
      "Epoch 43/100\n",
      "240/240 [==============================] - 0s 1ms/step - loss: 4.1419 - accuracy: 0.0000e+00\n",
      "Epoch 44/100\n",
      "240/240 [==============================] - 0s 1ms/step - loss: 4.0924 - accuracy: 0.0000e+00\n",
      "Epoch 45/100\n",
      "240/240 [==============================] - 0s 976us/step - loss: 4.1573 - accuracy: 0.0000e+00\n",
      "Epoch 46/100\n",
      "240/240 [==============================] - 0s 1ms/step - loss: 4.1069 - accuracy: 0.0000e+00\n",
      "Epoch 47/100\n",
      "240/240 [==============================] - 0s 982us/step - loss: 4.0944 - accuracy: 0.0000e+00\n",
      "Epoch 48/100\n",
      "240/240 [==============================] - 0s 985us/step - loss: 4.1052 - accuracy: 0.0000e+00\n",
      "Epoch 49/100\n",
      "240/240 [==============================] - 0s 993us/step - loss: 4.1199 - accuracy: 0.0000e+00\n",
      "Epoch 50/100\n",
      "240/240 [==============================] - 0s 997us/step - loss: 4.1323 - accuracy: 0.0000e+00\n",
      "Epoch 51/100\n",
      "240/240 [==============================] - 0s 1ms/step - loss: 4.0934 - accuracy: 0.0000e+00\n",
      "Epoch 52/100\n",
      "240/240 [==============================] - 0s 1ms/step - loss: 4.1185 - accuracy: 0.0000e+00\n",
      "Epoch 53/100\n",
      "240/240 [==============================] - 0s 1ms/step - loss: 4.1116 - accuracy: 0.0000e+00\n",
      "Epoch 54/100\n",
      "240/240 [==============================] - 0s 902us/step - loss: 4.1022 - accuracy: 0.0000e+00\n",
      "Epoch 55/100\n",
      "240/240 [==============================] - 0s 1ms/step - loss: 4.1122 - accuracy: 0.0000e+00\n",
      "Epoch 56/100\n",
      "240/240 [==============================] - 0s 1ms/step - loss: 4.0957 - accuracy: 0.0000e+00\n",
      "Epoch 57/100\n",
      "240/240 [==============================] - 0s 1ms/step - loss: 4.0936 - accuracy: 0.0000e+00\n",
      "Epoch 58/100\n",
      "240/240 [==============================] - 0s 1ms/step - loss: 4.0728 - accuracy: 0.0000e+00\n",
      "Epoch 59/100\n",
      "240/240 [==============================] - 0s 1ms/step - loss: 4.1255 - accuracy: 0.0000e+00\n",
      "Epoch 60/100\n",
      "240/240 [==============================] - 0s 1ms/step - loss: 4.0886 - accuracy: 0.0000e+00\n",
      "Epoch 61/100\n",
      "240/240 [==============================] - 0s 864us/step - loss: 4.1090 - accuracy: 0.0000e+00\n",
      "Epoch 62/100\n",
      "240/240 [==============================] - 0s 918us/step - loss: 4.1375 - accuracy: 0.0000e+00\n",
      "Epoch 63/100\n",
      "240/240 [==============================] - 0s 922us/step - loss: 4.1235 - accuracy: 0.0000e+00\n",
      "Epoch 64/100\n",
      "240/240 [==============================] - 0s 897us/step - loss: 4.1061 - accuracy: 0.0000e+00\n",
      "Epoch 65/100\n",
      "240/240 [==============================] - 0s 886us/step - loss: 4.1298 - accuracy: 0.0000e+00\n",
      "Epoch 66/100\n",
      "240/240 [==============================] - 0s 906us/step - loss: 4.1077 - accuracy: 0.0000e+00\n",
      "Epoch 67/100\n",
      "240/240 [==============================] - 0s 1ms/step - loss: 4.0826 - accuracy: 0.0000e+00\n",
      "Epoch 68/100\n",
      "240/240 [==============================] - 0s 1ms/step - loss: 4.0978 - accuracy: 0.0000e+00\n",
      "Epoch 69/100\n",
      "240/240 [==============================] - 0s 1ms/step - loss: 4.1087 - accuracy: 0.0000e+00\n",
      "Epoch 70/100\n",
      "240/240 [==============================] - 0s 1ms/step - loss: 4.1026 - accuracy: 0.0000e+00\n",
      "Epoch 71/100\n",
      "240/240 [==============================] - 0s 1ms/step - loss: 4.0837 - accuracy: 0.0000e+00\n",
      "Epoch 72/100\n",
      "240/240 [==============================] - 0s 1ms/step - loss: 4.0932 - accuracy: 0.0000e+00\n",
      "Epoch 73/100\n",
      "240/240 [==============================] - 0s 1ms/step - loss: 4.0862 - accuracy: 0.0000e+00\n",
      "Epoch 74/100\n",
      "240/240 [==============================] - 0s 839us/step - loss: 4.1171 - accuracy: 0.0000e+00\n",
      "Epoch 75/100\n",
      "240/240 [==============================] - 0s 1ms/step - loss: 4.1484 - accuracy: 0.0000e+00\n",
      "Epoch 76/100\n",
      "240/240 [==============================] - 0s 935us/step - loss: 4.1033 - accuracy: 0.0000e+00\n",
      "Epoch 77/100\n",
      "240/240 [==============================] - 0s 997us/step - loss: 4.1093 - accuracy: 0.0000e+00\n",
      "Epoch 78/100\n",
      "240/240 [==============================] - 0s 1ms/step - loss: 4.1248 - accuracy: 0.0000e+00\n",
      "Epoch 79/100\n",
      "240/240 [==============================] - 0s 919us/step - loss: 4.0987 - accuracy: 0.0000e+00\n",
      "Epoch 80/100\n",
      "240/240 [==============================] - 0s 964us/step - loss: 4.0787 - accuracy: 0.0000e+00\n",
      "Epoch 81/100\n",
      "240/240 [==============================] - 0s 893us/step - loss: 4.1020 - accuracy: 0.0000e+00\n",
      "Epoch 82/100\n",
      "240/240 [==============================] - 0s 1ms/step - loss: 4.1085 - accuracy: 0.0000e+00\n",
      "Epoch 83/100\n",
      "240/240 [==============================] - 0s 1ms/step - loss: 4.1108 - accuracy: 0.0000e+00\n",
      "Epoch 84/100\n",
      "240/240 [==============================] - 0s 908us/step - loss: 4.1204 - accuracy: 0.0000e+00\n",
      "Epoch 85/100\n",
      "240/240 [==============================] - 0s 881us/step - loss: 4.1074 - accuracy: 0.0000e+00\n",
      "Epoch 86/100\n",
      "240/240 [==============================] - 0s 982us/step - loss: 4.0721 - accuracy: 0.0000e+00\n",
      "Epoch 87/100\n",
      "240/240 [==============================] - 0s 1ms/step - loss: 4.0862 - accuracy: 0.0000e+00\n",
      "Epoch 88/100\n",
      "240/240 [==============================] - 0s 1ms/step - loss: 4.1058 - accuracy: 0.0000e+00\n",
      "Epoch 89/100\n",
      "240/240 [==============================] - 0s 1ms/step - loss: 4.1079 - accuracy: 0.0000e+00\n",
      "Epoch 90/100\n",
      "240/240 [==============================] - 0s 856us/step - loss: 4.1080 - accuracy: 0.0000e+00\n",
      "Epoch 91/100\n",
      "240/240 [==============================] - 0s 902us/step - loss: 4.1009 - accuracy: 0.0000e+00\n",
      "Epoch 92/100\n",
      "240/240 [==============================] - 0s 973us/step - loss: 4.1265 - accuracy: 0.0000e+00\n",
      "Epoch 93/100\n",
      "240/240 [==============================] - 0s 916us/step - loss: 4.0810 - accuracy: 0.0000e+00\n",
      "Epoch 94/100\n",
      "240/240 [==============================] - 0s 1ms/step - loss: 4.1088 - accuracy: 0.0000e+00\n",
      "Epoch 95/100\n",
      "240/240 [==============================] - 0s 964us/step - loss: 4.1109 - accuracy: 0.0000e+00\n",
      "Epoch 96/100\n",
      "240/240 [==============================] - 0s 2ms/step - loss: 4.0798 - accuracy: 0.0000e+00\n",
      "Epoch 97/100\n",
      "240/240 [==============================] - 0s 1ms/step - loss: 4.1267 - accuracy: 0.0000e+00\n",
      "Epoch 98/100\n",
      "240/240 [==============================] - 0s 947us/step - loss: 4.0860 - accuracy: 0.0000e+00\n",
      "Epoch 99/100\n",
      "240/240 [==============================] - 0s 847us/step - loss: 4.0870 - accuracy: 0.0000e+00\n",
      "Epoch 100/100\n",
      "240/240 [==============================] - 0s 956us/step - loss: 4.0807 - accuracy: 0.0000e+00\n"
     ]
    },
    {
     "output_type": "execute_result",
     "data": {
      "text/plain": [
       "<tensorflow.python.keras.callbacks.History at 0x1c60cfebaf0>"
      ]
     },
     "metadata": {},
     "execution_count": 12
    }
   ],
   "source": [
    "ann.fit(X_train, y_train, batch_size = 32, epochs = 100)"
   ]
  },
  {
   "source": [
    "### Predicting the results of the Test set"
   ],
   "cell_type": "markdown",
   "metadata": {}
  },
  {
   "cell_type": "code",
   "execution_count": 13,
   "metadata": {},
   "outputs": [
    {
     "output_type": "stream",
     "name": "stdout",
     "text": [
      "[[430.11 431.23]\n [461.74 460.01]\n [465.41 461.14]\n ...\n [472.6  473.26]\n [439.13 438.  ]\n [458.6  463.28]]\n"
     ]
    }
   ],
   "source": [
    "y_pred = ann.predict(X_test)\n",
    "\n",
    "np.set_printoptions(precision=2)\n",
    "print(np.concatenate((y_pred.reshape(len(y_pred),1), y_test.reshape(len(y_test),1)),1))"
   ]
  }
 ]
}