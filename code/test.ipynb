{
 "metadata": {
  "language_info": {
   "codemirror_mode": {
    "name": "ipython",
    "version": 3
   },
   "file_extension": ".py",
   "mimetype": "text/x-python",
   "name": "python",
   "nbconvert_exporter": "python",
   "pygments_lexer": "ipython3",
   "version": "3.9.5"
  },
  "orig_nbformat": 4,
  "kernelspec": {
   "name": "python3",
   "display_name": "Python 3.9.5 64-bit"
  },
  "interpreter": {
   "hash": "c569cd2e17f62341e0f08a54f9a867c3c0d3a6f67454072d7de41a8b5dff8343"
  }
 },
 "nbformat": 4,
 "nbformat_minor": 2,
 "cells": [
  {
   "cell_type": "code",
   "execution_count": 116,
   "metadata": {},
   "outputs": [],
   "source": [
    "possible_moves = [\"R\", \"P\", \"S\"]\n",
    "opponent_history = [\"R\", \"S\", \"P\", \"R\", \"S\", \"P\", \"R\", \"S\", \"P\", \"R\", \"S\", \"P\"]\n",
    "player_history = [\"P\", \"R\", \"S\", \"P\", \"R\", \"S\", \"P\", \"R\", \"S\", \"P\", \"R\", \"S\"]"
   ]
  },
  {
   "cell_type": "code",
   "execution_count": 176,
   "metadata": {},
   "outputs": [],
   "source": [
    "import numpy as np\n",
    "import matplotlib.pyplot as plt\n",
    "import pandas as pd\n",
    "from sklearn.linear_model import LogisticRegression"
   ]
  },
  {
   "cell_type": "code",
   "execution_count": 224,
   "metadata": {},
   "outputs": [],
   "source": [
    "x = pd.DataFrame(list(zip(opponent_history[-5:], player_history[-5:])),\n",
    "                    columns=[\"opponent_move\", \"player_move\"])"
   ]
  },
  {
   "cell_type": "code",
   "execution_count": 225,
   "metadata": {},
   "outputs": [
    {
     "output_type": "stream",
     "name": "stdout",
     "text": [
      "  opponent_move player_move\n0             S           R\n1             P           S\n2             R           P\n3             S           R\n4             P           S\n"
     ]
    }
   ],
   "source": [
    "print(x)"
   ]
  },
  {
   "cell_type": "code",
   "execution_count": 226,
   "metadata": {},
   "outputs": [],
   "source": [
    "x = pd.get_dummies(x)"
   ]
  },
  {
   "cell_type": "code",
   "execution_count": 227,
   "metadata": {},
   "outputs": [],
   "source": [
    "x_test = x.iloc[-1, :].values\n",
    "x_test = np.array(x_test).reshape((1, 6))\n",
    "x = x.iloc[:-1 , :]"
   ]
  },
  {
   "cell_type": "code",
   "execution_count": 228,
   "metadata": {},
   "outputs": [
    {
     "output_type": "stream",
     "name": "stdout",
     "text": [
      "[[1 0 0 0 0 1]]\n"
     ]
    }
   ],
   "source": [
    "print(x_test)"
   ]
  },
  {
   "cell_type": "code",
   "execution_count": 233,
   "metadata": {},
   "outputs": [],
   "source": [
    "y = pd.DataFrame(opponent_history[-5:-1], \n",
    "        columns=[\"opponent_next_move\"])\n",
    "\n",
    "y = pd.get_dummies(y)"
   ]
  },
  {
   "cell_type": "code",
   "execution_count": 234,
   "metadata": {},
   "outputs": [
    {
     "output_type": "stream",
     "name": "stdout",
     "text": [
      "   opponent_next_move_P  opponent_next_move_R  opponent_next_move_S\n0                     0                     0                     1\n1                     1                     0                     0\n2                     0                     1                     0\n3                     0                     0                     1\n"
     ]
    }
   ],
   "source": [
    "print(y)"
   ]
  },
  {
   "cell_type": "code",
   "execution_count": 209,
   "metadata": {},
   "outputs": [],
   "source": [
    "y_P = y.iloc[:, 0].values\n",
    "y_R = y.iloc[:, 1].values\n",
    "y_S = y.iloc[:, 2].values"
   ]
  },
  {
   "cell_type": "code",
   "execution_count": 174,
   "metadata": {},
   "outputs": [
    {
     "output_type": "stream",
     "name": "stdout",
     "text": [
      "[0 1 0 0 1 0 0 1 0 0 1]\n"
     ]
    }
   ],
   "source": [
    "print(y_P)"
   ]
  },
  {
   "cell_type": "code",
   "execution_count": 211,
   "metadata": {},
   "outputs": [
    {
     "output_type": "error",
     "ename": "NameError",
     "evalue": "name 'most_likely' is not defined",
     "traceback": [
      "\u001b[1;31m---------------------------------------------------------------------------\u001b[0m",
      "\u001b[1;31mNameError\u001b[0m                                 Traceback (most recent call last)",
      "\u001b[1;32m<ipython-input-211-92da4346d250>\u001b[0m in \u001b[0;36m<module>\u001b[1;34m\u001b[0m\n\u001b[0;32m     12\u001b[0m \u001b[0mS_pred\u001b[0m \u001b[1;33m=\u001b[0m \u001b[0mclassifier\u001b[0m\u001b[1;33m.\u001b[0m\u001b[0mpredict_proba\u001b[0m\u001b[1;33m(\u001b[0m\u001b[0mx_test\u001b[0m\u001b[1;33m)\u001b[0m\u001b[1;33m\u001b[0m\u001b[1;33m\u001b[0m\u001b[0m\n\u001b[0;32m     13\u001b[0m \u001b[1;33m\u001b[0m\u001b[0m\n\u001b[1;32m---> 14\u001b[1;33m \u001b[0mnext_move\u001b[0m \u001b[1;33m=\u001b[0m \u001b[0mmost_likely\u001b[0m\u001b[1;33m(\u001b[0m\u001b[0mP_pred\u001b[0m\u001b[1;33m,\u001b[0m \u001b[0mR_pred\u001b[0m\u001b[1;33m,\u001b[0m \u001b[0mS_pred\u001b[0m\u001b[1;33m)\u001b[0m\u001b[1;33m\u001b[0m\u001b[1;33m\u001b[0m\u001b[0m\n\u001b[0m",
      "\u001b[1;31mNameError\u001b[0m: name 'most_likely' is not defined"
     ]
    }
   ],
   "source": [
    "from sklearn.linear_model import LogisticRegression\n",
    "\n",
    "classifier = LogisticRegression(random_state = 0)\n",
    "        \n",
    "classifier.fit(x, y_P)\n",
    "P_pred = classifier.predict_proba(x_test)\n",
    "\n",
    "classifier.fit(x, y_R)\n",
    "R_pred = classifier.predict_proba(x_test)\n",
    "\n",
    "classifier.fit(x, y_S)\n",
    "S_pred = classifier.predict_proba(x_test)"
   ]
  },
  {
   "cell_type": "code",
   "execution_count": 213,
   "metadata": {},
   "outputs": [],
   "source": [
    "\n",
    "\n",
    "def most_likely(P_pred, R_pred, S_pred):\n",
    "    if (P_pred[0][1] > R_pred[0][1] and P_pred[0][1] > S_pred[0][1]):\n",
    "        return \"P\"\n",
    "    if (R_pred[0][1] > P_pred[0][1] and R_pred[0][1] > S_pred[0][1]):\n",
    "        return \"R\"\n",
    "    else:\n",
    "        return \"S\""
   ]
  },
  {
   "cell_type": "code",
   "execution_count": 219,
   "metadata": {},
   "outputs": [
    {
     "output_type": "execute_result",
     "data": {
      "text/plain": [
       "0.15035830685477042"
      ]
     },
     "metadata": {},
     "execution_count": 219
    }
   ],
   "source": [
    "\n",
    "\n",
    "P_pred[0][1]"
   ]
  },
  {
   "cell_type": "code",
   "execution_count": 216,
   "metadata": {},
   "outputs": [
    {
     "output_type": "execute_result",
     "data": {
      "text/plain": [
       "array([[0.31222674, 0.68777326]])"
      ]
     },
     "metadata": {},
     "execution_count": 216
    }
   ],
   "source": [
    "R_pred"
   ]
  },
  {
   "cell_type": "code",
   "execution_count": 217,
   "metadata": {},
   "outputs": [
    {
     "output_type": "execute_result",
     "data": {
      "text/plain": [
       "array([[0.84964169, 0.15035831]])"
      ]
     },
     "metadata": {},
     "execution_count": 217
    }
   ],
   "source": [
    "S_pred"
   ]
  },
  {
   "cell_type": "code",
   "execution_count": null,
   "metadata": {},
   "outputs": [],
   "source": []
  }
 ]
}